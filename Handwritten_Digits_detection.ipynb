{
  "nbformat": 4,
  "nbformat_minor": 0,
  "metadata": {
    "colab": {
      "provenance": [],
      "gpuType": "T4",
      "authorship_tag": "ABX9TyOLP16U667zaYI9hYlTmrXE",
      "include_colab_link": true
    },
    "kernelspec": {
      "name": "python3",
      "display_name": "Python 3"
    },
    "language_info": {
      "name": "python"
    },
    "accelerator": "GPU"
  },
  "cells": [
    {
      "cell_type": "markdown",
      "metadata": {
        "id": "view-in-github",
        "colab_type": "text"
      },
      "source": [
        "<a href=\"https://colab.research.google.com/github/sujataprasad01/DL-Artificial-Neural-Network_Handwritten-Digits-detection/blob/main/Handwritten_Digits_detection.ipynb\" target=\"_parent\"><img src=\"https://colab.research.google.com/assets/colab-badge.svg\" alt=\"Open In Colab\"/></a>"
      ]
    },
    {
      "cell_type": "markdown",
      "source": [
        "# Importing Libraries"
      ],
      "metadata": {
        "id": "_IDJrT4JiwPB"
      }
    },
    {
      "cell_type": "code",
      "execution_count": 2,
      "metadata": {
        "id": "684ox6tgcKOj"
      },
      "outputs": [],
      "source": [
        "import tensorflow as tf\n",
        "from tensorflow import keras\n",
        "import numpy as np\n",
        "import matplotlib.pyplot as plt\n",
        "import seaborn as sns"
      ]
    },
    {
      "cell_type": "markdown",
      "source": [
        "# Importing the dataset"
      ],
      "metadata": {
        "id": "yhFXlTy9iwRx"
      }
    },
    {
      "cell_type": "code",
      "source": [
        "data=keras.datasets.mnist"
      ],
      "metadata": {
        "id": "gTHZ5fJmenkh"
      },
      "execution_count": 3,
      "outputs": []
    },
    {
      "cell_type": "code",
      "source": [
        "(X_train, y_train), (X_test, y_test)=data.load_data()"
      ],
      "metadata": {
        "colab": {
          "base_uri": "https://localhost:8080/"
        },
        "id": "YpY95XWFennb",
        "outputId": "901dd3cf-88db-4680-9f94-97300dbfa522"
      },
      "execution_count": 4,
      "outputs": [
        {
          "output_type": "stream",
          "name": "stdout",
          "text": [
            "Downloading data from https://storage.googleapis.com/tensorflow/tf-keras-datasets/mnist.npz\n",
            "11490434/11490434 [==============================] - 0s 0us/step\n"
          ]
        }
      ]
    },
    {
      "cell_type": "code",
      "source": [
        "X_train.shape"
      ],
      "metadata": {
        "colab": {
          "base_uri": "https://localhost:8080/"
        },
        "id": "OUyIZ49CenqJ",
        "outputId": "e3fdcc36-ecc4-4ac2-8d4b-000fe1cbff57"
      },
      "execution_count": 5,
      "outputs": [
        {
          "output_type": "execute_result",
          "data": {
            "text/plain": [
              "(60000, 28, 28)"
            ]
          },
          "metadata": {},
          "execution_count": 5
        }
      ]
    },
    {
      "cell_type": "code",
      "source": [
        "X_train[0]"
      ],
      "metadata": {
        "colab": {
          "base_uri": "https://localhost:8080/"
        },
        "id": "qkfhF4SSentL",
        "outputId": "fb5a639e-0f8f-4ac8-8576-1481bc675153"
      },
      "execution_count": 6,
      "outputs": [
        {
          "output_type": "execute_result",
          "data": {
            "text/plain": [
              "array([[  0,   0,   0,   0,   0,   0,   0,   0,   0,   0,   0,   0,   0,\n",
              "          0,   0,   0,   0,   0,   0,   0,   0,   0,   0,   0,   0,   0,\n",
              "          0,   0],\n",
              "       [  0,   0,   0,   0,   0,   0,   0,   0,   0,   0,   0,   0,   0,\n",
              "          0,   0,   0,   0,   0,   0,   0,   0,   0,   0,   0,   0,   0,\n",
              "          0,   0],\n",
              "       [  0,   0,   0,   0,   0,   0,   0,   0,   0,   0,   0,   0,   0,\n",
              "          0,   0,   0,   0,   0,   0,   0,   0,   0,   0,   0,   0,   0,\n",
              "          0,   0],\n",
              "       [  0,   0,   0,   0,   0,   0,   0,   0,   0,   0,   0,   0,   0,\n",
              "          0,   0,   0,   0,   0,   0,   0,   0,   0,   0,   0,   0,   0,\n",
              "          0,   0],\n",
              "       [  0,   0,   0,   0,   0,   0,   0,   0,   0,   0,   0,   0,   0,\n",
              "          0,   0,   0,   0,   0,   0,   0,   0,   0,   0,   0,   0,   0,\n",
              "          0,   0],\n",
              "       [  0,   0,   0,   0,   0,   0,   0,   0,   0,   0,   0,   0,   3,\n",
              "         18,  18,  18, 126, 136, 175,  26, 166, 255, 247, 127,   0,   0,\n",
              "          0,   0],\n",
              "       [  0,   0,   0,   0,   0,   0,   0,   0,  30,  36,  94, 154, 170,\n",
              "        253, 253, 253, 253, 253, 225, 172, 253, 242, 195,  64,   0,   0,\n",
              "          0,   0],\n",
              "       [  0,   0,   0,   0,   0,   0,   0,  49, 238, 253, 253, 253, 253,\n",
              "        253, 253, 253, 253, 251,  93,  82,  82,  56,  39,   0,   0,   0,\n",
              "          0,   0],\n",
              "       [  0,   0,   0,   0,   0,   0,   0,  18, 219, 253, 253, 253, 253,\n",
              "        253, 198, 182, 247, 241,   0,   0,   0,   0,   0,   0,   0,   0,\n",
              "          0,   0],\n",
              "       [  0,   0,   0,   0,   0,   0,   0,   0,  80, 156, 107, 253, 253,\n",
              "        205,  11,   0,  43, 154,   0,   0,   0,   0,   0,   0,   0,   0,\n",
              "          0,   0],\n",
              "       [  0,   0,   0,   0,   0,   0,   0,   0,   0,  14,   1, 154, 253,\n",
              "         90,   0,   0,   0,   0,   0,   0,   0,   0,   0,   0,   0,   0,\n",
              "          0,   0],\n",
              "       [  0,   0,   0,   0,   0,   0,   0,   0,   0,   0,   0, 139, 253,\n",
              "        190,   2,   0,   0,   0,   0,   0,   0,   0,   0,   0,   0,   0,\n",
              "          0,   0],\n",
              "       [  0,   0,   0,   0,   0,   0,   0,   0,   0,   0,   0,  11, 190,\n",
              "        253,  70,   0,   0,   0,   0,   0,   0,   0,   0,   0,   0,   0,\n",
              "          0,   0],\n",
              "       [  0,   0,   0,   0,   0,   0,   0,   0,   0,   0,   0,   0,  35,\n",
              "        241, 225, 160, 108,   1,   0,   0,   0,   0,   0,   0,   0,   0,\n",
              "          0,   0],\n",
              "       [  0,   0,   0,   0,   0,   0,   0,   0,   0,   0,   0,   0,   0,\n",
              "         81, 240, 253, 253, 119,  25,   0,   0,   0,   0,   0,   0,   0,\n",
              "          0,   0],\n",
              "       [  0,   0,   0,   0,   0,   0,   0,   0,   0,   0,   0,   0,   0,\n",
              "          0,  45, 186, 253, 253, 150,  27,   0,   0,   0,   0,   0,   0,\n",
              "          0,   0],\n",
              "       [  0,   0,   0,   0,   0,   0,   0,   0,   0,   0,   0,   0,   0,\n",
              "          0,   0,  16,  93, 252, 253, 187,   0,   0,   0,   0,   0,   0,\n",
              "          0,   0],\n",
              "       [  0,   0,   0,   0,   0,   0,   0,   0,   0,   0,   0,   0,   0,\n",
              "          0,   0,   0,   0, 249, 253, 249,  64,   0,   0,   0,   0,   0,\n",
              "          0,   0],\n",
              "       [  0,   0,   0,   0,   0,   0,   0,   0,   0,   0,   0,   0,   0,\n",
              "          0,  46, 130, 183, 253, 253, 207,   2,   0,   0,   0,   0,   0,\n",
              "          0,   0],\n",
              "       [  0,   0,   0,   0,   0,   0,   0,   0,   0,   0,   0,   0,  39,\n",
              "        148, 229, 253, 253, 253, 250, 182,   0,   0,   0,   0,   0,   0,\n",
              "          0,   0],\n",
              "       [  0,   0,   0,   0,   0,   0,   0,   0,   0,   0,  24, 114, 221,\n",
              "        253, 253, 253, 253, 201,  78,   0,   0,   0,   0,   0,   0,   0,\n",
              "          0,   0],\n",
              "       [  0,   0,   0,   0,   0,   0,   0,   0,  23,  66, 213, 253, 253,\n",
              "        253, 253, 198,  81,   2,   0,   0,   0,   0,   0,   0,   0,   0,\n",
              "          0,   0],\n",
              "       [  0,   0,   0,   0,   0,   0,  18, 171, 219, 253, 253, 253, 253,\n",
              "        195,  80,   9,   0,   0,   0,   0,   0,   0,   0,   0,   0,   0,\n",
              "          0,   0],\n",
              "       [  0,   0,   0,   0,  55, 172, 226, 253, 253, 253, 253, 244, 133,\n",
              "         11,   0,   0,   0,   0,   0,   0,   0,   0,   0,   0,   0,   0,\n",
              "          0,   0],\n",
              "       [  0,   0,   0,   0, 136, 253, 253, 253, 212, 135, 132,  16,   0,\n",
              "          0,   0,   0,   0,   0,   0,   0,   0,   0,   0,   0,   0,   0,\n",
              "          0,   0],\n",
              "       [  0,   0,   0,   0,   0,   0,   0,   0,   0,   0,   0,   0,   0,\n",
              "          0,   0,   0,   0,   0,   0,   0,   0,   0,   0,   0,   0,   0,\n",
              "          0,   0],\n",
              "       [  0,   0,   0,   0,   0,   0,   0,   0,   0,   0,   0,   0,   0,\n",
              "          0,   0,   0,   0,   0,   0,   0,   0,   0,   0,   0,   0,   0,\n",
              "          0,   0],\n",
              "       [  0,   0,   0,   0,   0,   0,   0,   0,   0,   0,   0,   0,   0,\n",
              "          0,   0,   0,   0,   0,   0,   0,   0,   0,   0,   0,   0,   0,\n",
              "          0,   0]], dtype=uint8)"
            ]
          },
          "metadata": {},
          "execution_count": 6
        }
      ]
    },
    {
      "cell_type": "code",
      "source": [
        "X_train[0][5]"
      ],
      "metadata": {
        "colab": {
          "base_uri": "https://localhost:8080/"
        },
        "id": "zAPp73nTenwN",
        "outputId": "3cc6bacf-feeb-4b09-8772-6bed33438457"
      },
      "execution_count": 7,
      "outputs": [
        {
          "output_type": "execute_result",
          "data": {
            "text/plain": [
              "array([  0,   0,   0,   0,   0,   0,   0,   0,   0,   0,   0,   0,   3,\n",
              "        18,  18,  18, 126, 136, 175,  26, 166, 255, 247, 127,   0,   0,\n",
              "         0,   0], dtype=uint8)"
            ]
          },
          "metadata": {},
          "execution_count": 7
        }
      ]
    },
    {
      "cell_type": "code",
      "source": [
        "plt.matshow(X_train[0])"
      ],
      "metadata": {
        "colab": {
          "base_uri": "https://localhost:8080/",
          "height": 454
        },
        "id": "4AGErhz0enzG",
        "outputId": "49a3d308-158f-423d-9353-e895c2d64968"
      },
      "execution_count": 8,
      "outputs": [
        {
          "output_type": "execute_result",
          "data": {
            "text/plain": [
              "<matplotlib.image.AxesImage at 0x79a9b2e8d030>"
            ]
          },
          "metadata": {},
          "execution_count": 8
        },
        {
          "output_type": "display_data",
          "data": {
            "text/plain": [
              "<Figure size 480x480 with 1 Axes>"
            ],
            "image/png": "[encoded data removed]"
          },
          "metadata": {}
        }
      ]
    },
    {
      "cell_type": "code",
      "source": [
        "for i in range(6):\n",
        " plt.matshow(X_train[i])"
      ],
      "metadata": {
        "id": "eTdx6Jmfen8G",
        "colab": {
          "base_uri": "https://localhost:8080/",
          "height": 1000
        },
        "outputId": "68aad6cd-2384-4472-baad-71e9bd20550e"
      },
      "execution_count": 9,
      "outputs": [
        {
          "output_type": "display_data",
          "data": {
            "text/plain": [
              "<Figure size 480x480 with 1 Axes>"
            ],
            "image/png": "[encoded data removed]"
          },
          "metadata": {}
        },
        {
          "output_type": "display_data",
          "data": {
            "text/plain": [
              "<Figure size 480x480 with 1 Axes>"
            ],
            "image/png": "[encoded data removed]"
          },
          "metadata": {}
        },
        {
          "output_type": "display_data",
          "data": {
            "text/plain": [
              "<Figure size 480x480 with 1 Axes>"
            ],
            "image/png": "[encoded data removed]"
          },
          "metadata": {}
        },
        {
          "output_type": "display_data",
          "data": {
            "text/plain": [
              "<Figure size 480x480 with 1 Axes>"
            ],
            "image/png": "[encoded data removed]"
          },
          "metadata": {}
        },
        {
          "output_type": "display_data",
          "data": {
            "text/plain": [
              "<Figure size 480x480 with 1 Axes>"
            ],
            "image/png": "[encoded data removed]"
          },
          "metadata": {}
        },
        {
          "output_type": "display_data",
          "data": {
            "text/plain": [
              "<Figure size 480x480 with 1 Axes>"
            ],
            "image/png": "[encoded data removed]"
          },
          "metadata": {}
        }
      ]
    },
    {
      "cell_type": "code",
      "source": [
        "y_train[:10]"
      ],
      "metadata": {
        "id": "mL3OQlKgeoB9",
        "colab": {
          "base_uri": "https://localhost:8080/"
        },
        "outputId": "45269dd1-495f-4a91-edd5-902c597cc499"
      },
      "execution_count": 10,
      "outputs": [
        {
          "output_type": "execute_result",
          "data": {
            "text/plain": [
              "array([5, 0, 4, 1, 9, 2, 1, 3, 1, 4], dtype=uint8)"
            ]
          },
          "metadata": {},
          "execution_count": 10
        }
      ]
    },
    {
      "cell_type": "code",
      "source": [
        "X_test.shape"
      ],
      "metadata": {
        "id": "fVs3GwBken-0",
        "colab": {
          "base_uri": "https://localhost:8080/"
        },
        "outputId": "6a0e503a-becb-4eef-9d90-de48d5c45cb0"
      },
      "execution_count": 11,
      "outputs": [
        {
          "output_type": "execute_result",
          "data": {
            "text/plain": [
              "(10000, 28, 28)"
            ]
          },
          "metadata": {},
          "execution_count": 11
        }
      ]
    },
    {
      "cell_type": "code",
      "source": [
        "flat_X_train = X_train.reshape(len(X_train), 28*28)\n",
        "flat_X_test = X_test.reshape(len(X_test), 28*28)"
      ],
      "metadata": {
        "id": "fVreE7cIeoEy"
      },
      "execution_count": 12,
      "outputs": []
    },
    {
      "cell_type": "code",
      "source": [
        "flat_X_train.shape"
      ],
      "metadata": {
        "colab": {
          "base_uri": "https://localhost:8080/"
        },
        "id": "AMYfKiB8D9LT",
        "outputId": "d4637d02-e095-4372-bb6d-dafbb7be3248"
      },
      "execution_count": 13,
      "outputs": [
        {
          "output_type": "execute_result",
          "data": {
            "text/plain": [
              "(60000, 784)"
            ]
          },
          "metadata": {},
          "execution_count": 13
        }
      ]
    },
    {
      "cell_type": "code",
      "source": [
        "flat_X_train[0]"
      ],
      "metadata": {
        "colab": {
          "base_uri": "https://localhost:8080/"
        },
        "id": "kdwjRqgzD9Ny",
        "outputId": "148fca35-6d19-46d3-ed48-558c6fa008b5"
      },
      "execution_count": 14,
      "outputs": [
        {
          "output_type": "execute_result",
          "data": {
            "text/plain": [
              "array([  0,   0,   0,   0,   0,   0,   0,   0,   0,   0,   0,   0,   0,\n",
              "         0,   0,   0,   0,   0,   0,   0,   0,   0,   0,   0,   0,   0,\n",
              "         0,   0,   0,   0,   0,   0,   0,   0,   0,   0,   0,   0,   0,\n",
              "         0,   0,   0,   0,   0,   0,   0,   0,   0,   0,   0,   0,   0,\n",
              "         0,   0,   0,   0,   0,   0,   0,   0,   0,   0,   0,   0,   0,\n",
              "         0,   0,   0,   0,   0,   0,   0,   0,   0,   0,   0,   0,   0,\n",
              "         0,   0,   0,   0,   0,   0,   0,   0,   0,   0,   0,   0,   0,\n",
              "         0,   0,   0,   0,   0,   0,   0,   0,   0,   0,   0,   0,   0,\n",
              "         0,   0,   0,   0,   0,   0,   0,   0,   0,   0,   0,   0,   0,\n",
              "         0,   0,   0,   0,   0,   0,   0,   0,   0,   0,   0,   0,   0,\n",
              "         0,   0,   0,   0,   0,   0,   0,   0,   0,   0,   0,   0,   0,\n",
              "         0,   0,   0,   0,   0,   0,   0,   0,   0,   3,  18,  18,  18,\n",
              "       126, 136, 175,  26, 166, 255, 247, 127,   0,   0,   0,   0,   0,\n",
              "         0,   0,   0,   0,   0,   0,   0,  30,  36,  94, 154, 170, 253,\n",
              "       253, 253, 253, 253, 225, 172, 253, 242, 195,  64,   0,   0,   0,\n",
              "         0,   0,   0,   0,   0,   0,   0,   0,  49, 238, 253, 253, 253,\n",
              "       253, 253, 253, 253, 253, 251,  93,  82,  82,  56,  39,   0,   0,\n",
              "         0,   0,   0,   0,   0,   0,   0,   0,   0,   0,  18, 219, 253,\n",
              "       253, 253, 253, 253, 198, 182, 247, 241,   0,   0,   0,   0,   0,\n",
              "         0,   0,   0,   0,   0,   0,   0,   0,   0,   0,   0,   0,   0,\n",
              "        80, 156, 107, 253, 253, 205,  11,   0,  43, 154,   0,   0,   0,\n",
              "         0,   0,   0,   0,   0,   0,   0,   0,   0,   0,   0,   0,   0,\n",
              "         0,   0,   0,  14,   1, 154, 253,  90,   0,   0,   0,   0,   0,\n",
              "         0,   0,   0,   0,   0,   0,   0,   0,   0,   0,   0,   0,   0,\n",
              "         0,   0,   0,   0,   0,   0,   0, 139, 253, 190,   2,   0,   0,\n",
              "         0,   0,   0,   0,   0,   0,   0,   0,   0,   0,   0,   0,   0,\n",
              "         0,   0,   0,   0,   0,   0,   0,   0,   0,  11, 190, 253,  70,\n",
              "         0,   0,   0,   0,   0,   0,   0,   0,   0,   0,   0,   0,   0,\n",
              "         0,   0,   0,   0,   0,   0,   0,   0,   0,   0,   0,   0,  35,\n",
              "       241, 225, 160, 108,   1,   0,   0,   0,   0,   0,   0,   0,   0,\n",
              "         0,   0,   0,   0,   0,   0,   0,   0,   0,   0,   0,   0,   0,\n",
              "         0,   0,  81, 240, 253, 253, 119,  25,   0,   0,   0,   0,   0,\n",
              "         0,   0,   0,   0,   0,   0,   0,   0,   0,   0,   0,   0,   0,\n",
              "         0,   0,   0,   0,   0,  45, 186, 253, 253, 150,  27,   0,   0,\n",
              "         0,   0,   0,   0,   0,   0,   0,   0,   0,   0,   0,   0,   0,\n",
              "         0,   0,   0,   0,   0,   0,   0,   0,  16,  93, 252, 253, 187,\n",
              "         0,   0,   0,   0,   0,   0,   0,   0,   0,   0,   0,   0,   0,\n",
              "         0,   0,   0,   0,   0,   0,   0,   0,   0,   0,   0,   0, 249,\n",
              "       253, 249,  64,   0,   0,   0,   0,   0,   0,   0,   0,   0,   0,\n",
              "         0,   0,   0,   0,   0,   0,   0,   0,   0,   0,   0,  46, 130,\n",
              "       183, 253, 253, 207,   2,   0,   0,   0,   0,   0,   0,   0,   0,\n",
              "         0,   0,   0,   0,   0,   0,   0,   0,   0,   0,   0,  39, 148,\n",
              "       229, 253, 253, 253, 250, 182,   0,   0,   0,   0,   0,   0,   0,\n",
              "         0,   0,   0,   0,   0,   0,   0,   0,   0,   0,   0,  24, 114,\n",
              "       221, 253, 253, 253, 253, 201,  78,   0,   0,   0,   0,   0,   0,\n",
              "         0,   0,   0,   0,   0,   0,   0,   0,   0,   0,   0,  23,  66,\n",
              "       213, 253, 253, 253, 253, 198,  81,   2,   0,   0,   0,   0,   0,\n",
              "         0,   0,   0,   0,   0,   0,   0,   0,   0,   0,   0,  18, 171,\n",
              "       219, 253, 253, 253, 253, 195,  80,   9,   0,   0,   0,   0,   0,\n",
              "         0,   0,   0,   0,   0,   0,   0,   0,   0,   0,   0,  55, 172,\n",
              "       226, 253, 253, 253, 253, 244, 133,  11,   0,   0,   0,   0,   0,\n",
              "         0,   0,   0,   0,   0,   0,   0,   0,   0,   0,   0,   0,   0,\n",
              "       136, 253, 253, 253, 212, 135, 132,  16,   0,   0,   0,   0,   0,\n",
              "         0,   0,   0,   0,   0,   0,   0,   0,   0,   0,   0,   0,   0,\n",
              "         0,   0,   0,   0,   0,   0,   0,   0,   0,   0,   0,   0,   0,\n",
              "         0,   0,   0,   0,   0,   0,   0,   0,   0,   0,   0,   0,   0,\n",
              "         0,   0,   0,   0,   0,   0,   0,   0,   0,   0,   0,   0,   0,\n",
              "         0,   0,   0,   0,   0,   0,   0,   0,   0,   0,   0,   0,   0,\n",
              "         0,   0,   0,   0,   0,   0,   0,   0,   0,   0,   0,   0,   0,\n",
              "         0,   0,   0,   0,   0,   0,   0,   0,   0,   0,   0,   0,   0,\n",
              "         0,   0,   0,   0], dtype=uint8)"
            ]
          },
          "metadata": {},
          "execution_count": 14
        }
      ]
    },
    {
      "cell_type": "code",
      "source": [
        "flat_X_train.ndim"
      ],
      "metadata": {
        "colab": {
          "base_uri": "https://localhost:8080/"
        },
        "id": "KCOc11JFD9TC",
        "outputId": "031e37e8-733e-41d6-880f-4720b61b1be1"
      },
      "execution_count": 15,
      "outputs": [
        {
          "output_type": "execute_result",
          "data": {
            "text/plain": [
              "2"
            ]
          },
          "metadata": {},
          "execution_count": 15
        }
      ]
    },
    {
      "cell_type": "code",
      "source": [
        "flat_X_train[0].ndim"
      ],
      "metadata": {
        "colab": {
          "base_uri": "https://localhost:8080/"
        },
        "id": "VrKqhQUbGTmt",
        "outputId": "4596339d-5033-4eb8-e9d9-62eb1f19931c"
      },
      "execution_count": 16,
      "outputs": [
        {
          "output_type": "execute_result",
          "data": {
            "text/plain": [
              "1"
            ]
          },
          "metadata": {},
          "execution_count": 16
        }
      ]
    },
    {
      "cell_type": "code",
      "source": [
        "X_train.ndim"
      ],
      "metadata": {
        "colab": {
          "base_uri": "https://localhost:8080/"
        },
        "id": "L-ePqZrBD9Vj",
        "outputId": "9272f414-361b-4bb6-b941-3ffe2e7515ec"
      },
      "execution_count": 17,
      "outputs": [
        {
          "output_type": "execute_result",
          "data": {
            "text/plain": [
              "3"
            ]
          },
          "metadata": {},
          "execution_count": 17
        }
      ]
    },
    {
      "cell_type": "code",
      "source": [
        "X_train[0].ndim"
      ],
      "metadata": {
        "colab": {
          "base_uri": "https://localhost:8080/"
        },
        "id": "Lba3BddmD9YS",
        "outputId": "2d93c578-0053-4426-958e-212614466e03"
      },
      "execution_count": 18,
      "outputs": [
        {
          "output_type": "execute_result",
          "data": {
            "text/plain": [
              "2"
            ]
          },
          "metadata": {},
          "execution_count": 18
        }
      ]
    },
    {
      "cell_type": "markdown",
      "source": [
        "#  Model"
      ],
      "metadata": {
        "id": "XEjR6pdtR2Rm"
      }
    },
    {
      "cell_type": "code",
      "source": [
        "model=keras.Sequential([\n",
        "    keras.layers.Dense(units=10, input_shape=(784,), activation='sigmoid')\n",
        "])\n",
        "\n",
        "model.compile(\n",
        "    optimizer='adam',\n",
        "    loss='sparse_categorical_crossentropy',\n",
        "    metrics=['accuracy']\n",
        ")"
      ],
      "metadata": {
        "id": "oDdPTY_RD9az"
      },
      "execution_count": 26,
      "outputs": []
    },
    {
      "cell_type": "code",
      "source": [
        "model.fit(flat_X_train, y_train, epochs=5)"
      ],
      "metadata": {
        "colab": {
          "base_uri": "https://localhost:8080/"
        },
        "id": "HoobAXOvD9e3",
        "outputId": "b89d5c3c-a0db-4a7e-cc26-e194939f27fd"
      },
      "execution_count": 27,
      "outputs": [
        {
          "output_type": "stream",
          "name": "stdout",
          "text": [
            "Epoch 1/5\n",
            "1875/1875 [==============================] - 36s 19ms/step - loss: 10.3229 - accuracy: 0.2578\n",
            "Epoch 2/5\n",
            "1875/1875 [==============================] - 36s 19ms/step - loss: 6.1819 - accuracy: 0.2636\n",
            "Epoch 3/5\n",
            "1875/1875 [==============================] - 36s 19ms/step - loss: 5.6879 - accuracy: 0.2582\n",
            "Epoch 4/5\n",
            "1875/1875 [==============================] - 36s 19ms/step - loss: 5.5241 - accuracy: 0.2521\n",
            "Epoch 5/5\n",
            "1875/1875 [==============================] - 36s 19ms/step - loss: 5.4658 - accuracy: 0.2538\n"
          ]
        },
        {
          "output_type": "execute_result",
          "data": {
            "text/plain": [
              "<keras.src.callbacks.History at 0x79a92c298a60>"
            ]
          },
          "metadata": {},
          "execution_count": 27
        }
      ]
    },
    {
      "cell_type": "code",
      "source": [
        "tf.config.run_functions_eagerly(True)"
      ],
      "metadata": {
        "id": "mmlWWNvhXskt"
      },
      "execution_count": 25,
      "outputs": []
    },
    {
      "cell_type": "markdown",
      "source": [
        "# Feature scaling"
      ],
      "metadata": {
        "id": "RSrAD900aMv8"
      }
    },
    {
      "cell_type": "code",
      "source": [
        "new_X_train= X_train/255\n",
        "new_X_test= X_test/255"
      ],
      "metadata": {
        "id": "A3ePAR0wX3bE"
      },
      "execution_count": 28,
      "outputs": []
    },
    {
      "cell_type": "code",
      "source": [
        "new_X_train"
      ],
      "metadata": {
        "colab": {
          "base_uri": "https://localhost:8080/"
        },
        "id": "gT9dlFiDX3d1",
        "outputId": "669b3882-f9a6-4b58-e740-bbee233ec1ce"
      },
      "execution_count": 29,
      "outputs": [
        {
          "output_type": "execute_result",
          "data": {
            "text/plain": [
              "array([[[0., 0., 0., ..., 0., 0., 0.],\n",
              "        [0., 0., 0., ..., 0., 0., 0.],\n",
              "        [0., 0., 0., ..., 0., 0., 0.],\n",
              "        ...,\n",
              "        [0., 0., 0., ..., 0., 0., 0.],\n",
              "        [0., 0., 0., ..., 0., 0., 0.],\n",
              "        [0., 0., 0., ..., 0., 0., 0.]],\n",
              "\n",
              "       [[0., 0., 0., ..., 0., 0., 0.],\n",
              "        [0., 0., 0., ..., 0., 0., 0.],\n",
              "        [0., 0., 0., ..., 0., 0., 0.],\n",
              "        ...,\n",
              "        [0., 0., 0., ..., 0., 0., 0.],\n",
              "        [0., 0., 0., ..., 0., 0., 0.],\n",
              "        [0., 0., 0., ..., 0., 0., 0.]],\n",
              "\n",
              "       [[0., 0., 0., ..., 0., 0., 0.],\n",
              "        [0., 0., 0., ..., 0., 0., 0.],\n",
              "        [0., 0., 0., ..., 0., 0., 0.],\n",
              "        ...,\n",
              "        [0., 0., 0., ..., 0., 0., 0.],\n",
              "        [0., 0., 0., ..., 0., 0., 0.],\n",
              "        [0., 0., 0., ..., 0., 0., 0.]],\n",
              "\n",
              "       ...,\n",
              "\n",
              "       [[0., 0., 0., ..., 0., 0., 0.],\n",
              "        [0., 0., 0., ..., 0., 0., 0.],\n",
              "        [0., 0., 0., ..., 0., 0., 0.],\n",
              "        ...,\n",
              "        [0., 0., 0., ..., 0., 0., 0.],\n",
              "        [0., 0., 0., ..., 0., 0., 0.],\n",
              "        [0., 0., 0., ..., 0., 0., 0.]],\n",
              "\n",
              "       [[0., 0., 0., ..., 0., 0., 0.],\n",
              "        [0., 0., 0., ..., 0., 0., 0.],\n",
              "        [0., 0., 0., ..., 0., 0., 0.],\n",
              "        ...,\n",
              "        [0., 0., 0., ..., 0., 0., 0.],\n",
              "        [0., 0., 0., ..., 0., 0., 0.],\n",
              "        [0., 0., 0., ..., 0., 0., 0.]],\n",
              "\n",
              "       [[0., 0., 0., ..., 0., 0., 0.],\n",
              "        [0., 0., 0., ..., 0., 0., 0.],\n",
              "        [0., 0., 0., ..., 0., 0., 0.],\n",
              "        ...,\n",
              "        [0., 0., 0., ..., 0., 0., 0.],\n",
              "        [0., 0., 0., ..., 0., 0., 0.],\n",
              "        [0., 0., 0., ..., 0., 0., 0.]]])"
            ]
          },
          "metadata": {},
          "execution_count": 29
        }
      ]
    },
    {
      "cell_type": "code",
      "source": [
        "new_flat_X_train=new_X_train.reshape(len(new_X_train), 28*28)\n",
        "new_flat_X_test=new_X_test.reshape(len(new_X_test), 28*28)"
      ],
      "metadata": {
        "id": "OgdDz3KDX3gj"
      },
      "execution_count": 31,
      "outputs": []
    },
    {
      "cell_type": "code",
      "source": [
        "model=keras.Sequential([\n",
        "    keras.layers.Dense(units=10, input_shape=(784,), activation='sigmoid')\n",
        "])\n",
        "\n",
        "model.compile(\n",
        "    optimizer='adam',\n",
        "    loss='sparse_categorical_crossentropy',\n",
        "    metrics=['accuracy']\n",
        ")\n",
        "\n",
        "model.fit(new_flat_X_train, y_train, epochs=5)"
      ],
      "metadata": {
        "colab": {
          "base_uri": "https://localhost:8080/"
        },
        "id": "XeWDCggLX3i3",
        "outputId": "59abfa91-9de9-445c-89e1-595cbe5bd67f"
      },
      "execution_count": 32,
      "outputs": [
        {
          "output_type": "stream",
          "name": "stdout",
          "text": [
            "Epoch 1/5\n"
          ]
        },
        {
          "output_type": "stream",
          "name": "stderr",
          "text": [
            "/usr/local/lib/python3.10/dist-packages/tensorflow/python/data/ops/structured_function.py:258: UserWarning: Even though the `tf.config.experimental_run_functions_eagerly` option is set, this option does not apply to tf.data functions. To force eager execution of tf.data functions, please use `tf.data.experimental.enable_debug_mode()`.\n",
            "  warnings.warn(\n"
          ]
        },
        {
          "output_type": "stream",
          "name": "stdout",
          "text": [
            "1875/1875 [==============================] - 36s 19ms/step - loss: 0.4666 - accuracy: 0.8785\n",
            "Epoch 2/5\n",
            "1875/1875 [==============================] - 36s 19ms/step - loss: 0.3034 - accuracy: 0.9156\n",
            "Epoch 3/5\n",
            "1875/1875 [==============================] - 37s 20ms/step - loss: 0.2830 - accuracy: 0.9211\n",
            "Epoch 4/5\n",
            "1875/1875 [==============================] - 36s 19ms/step - loss: 0.2728 - accuracy: 0.9240\n",
            "Epoch 5/5\n",
            "1875/1875 [==============================] - 36s 19ms/step - loss: 0.2663 - accuracy: 0.9266\n"
          ]
        },
        {
          "output_type": "execute_result",
          "data": {
            "text/plain": [
              "<keras.src.callbacks.History at 0x79a92c1390f0>"
            ]
          },
          "metadata": {},
          "execution_count": 32
        }
      ]
    },
    {
      "cell_type": "code",
      "source": [
        "model.evaluate(new_flat_X_test, y_test)"
      ],
      "metadata": {
        "colab": {
          "base_uri": "https://localhost:8080/"
        },
        "id": "ML2DX27dX3lD",
        "outputId": "ba2a2735-a103-4ef8-8564-ac2e84684d8f"
      },
      "execution_count": 33,
      "outputs": [
        {
          "output_type": "stream",
          "name": "stdout",
          "text": [
            "  5/313 [..............................] - ETA: 4s - loss: 0.1967 - accuracy: 0.9688 "
          ]
        },
        {
          "output_type": "stream",
          "name": "stderr",
          "text": [
            "/usr/local/lib/python3.10/dist-packages/tensorflow/python/data/ops/structured_function.py:258: UserWarning: Even though the `tf.config.experimental_run_functions_eagerly` option is set, this option does not apply to tf.data functions. To force eager execution of tf.data functions, please use `tf.data.experimental.enable_debug_mode()`.\n",
            "  warnings.warn(\n"
          ]
        },
        {
          "output_type": "stream",
          "name": "stdout",
          "text": [
            "313/313 [==============================] - 4s 11ms/step - loss: 0.2669 - accuracy: 0.9266\n"
          ]
        },
        {
          "output_type": "execute_result",
          "data": {
            "text/plain": [
              "[0.2669428586959839, 0.9265999794006348]"
            ]
          },
          "metadata": {},
          "execution_count": 33
        }
      ]
    },
    {
      "cell_type": "code",
      "source": [
        "y_pred=model.predict(new_flat_X_test)"
      ],
      "metadata": {
        "colab": {
          "base_uri": "https://localhost:8080/"
        },
        "id": "e1IG2VLpX3rI",
        "outputId": "dae57e2e-b14a-427f-d503-fdfe7a9a3d57"
      },
      "execution_count": 34,
      "outputs": [
        {
          "output_type": "stream",
          "name": "stdout",
          "text": [
            " 49/313 [===>..........................] - ETA: 0s"
          ]
        },
        {
          "output_type": "stream",
          "name": "stderr",
          "text": [
            "/usr/local/lib/python3.10/dist-packages/tensorflow/python/data/ops/structured_function.py:258: UserWarning: Even though the `tf.config.experimental_run_functions_eagerly` option is set, this option does not apply to tf.data functions. To force eager execution of tf.data functions, please use `tf.data.experimental.enable_debug_mode()`.\n",
            "  warnings.warn(\n"
          ]
        },
        {
          "output_type": "stream",
          "name": "stdout",
          "text": [
            "313/313 [==============================] - 1s 2ms/step\n"
          ]
        }
      ]
    },
    {
      "cell_type": "code",
      "source": [
        "y_pred[0]"
      ],
      "metadata": {
        "id": "TMgoj15JeoHp",
        "colab": {
          "base_uri": "https://localhost:8080/"
        },
        "outputId": "9b0933b4-62fd-4237-b8a9-d186a74d68fa"
      },
      "execution_count": 35,
      "outputs": [
        {
          "output_type": "execute_result",
          "data": {
            "text/plain": [
              "array([2.03044564e-02, 2.81491509e-07, 6.70390427e-02, 9.56448913e-01,\n",
              "       2.95219594e-03, 1.22738115e-01, 2.39470455e-06, 9.99807775e-01,\n",
              "       1.01213805e-01, 6.79556906e-01], dtype=float32)"
            ]
          },
          "metadata": {},
          "execution_count": 35
        }
      ]
    },
    {
      "cell_type": "code",
      "source": [
        "np.argmax(y_pred[0])"
      ],
      "metadata": {
        "colab": {
          "base_uri": "https://localhost:8080/"
        },
        "id": "zCokz1NScj87",
        "outputId": "7487651a-1e45-4485-82ae-3e64a6744f81"
      },
      "execution_count": 37,
      "outputs": [
        {
          "output_type": "execute_result",
          "data": {
            "text/plain": [
              "7"
            ]
          },
          "metadata": {},
          "execution_count": 37
        }
      ]
    },
    {
      "cell_type": "code",
      "source": [
        "y_pred_label=[np.argmax(i) for i in y_pred]"
      ],
      "metadata": {
        "id": "LOdV_55kcj_o"
      },
      "execution_count": 38,
      "outputs": []
    },
    {
      "cell_type": "code",
      "source": [
        "y_pred_label"
      ],
      "metadata": {
        "colab": {
          "base_uri": "https://localhost:8080/"
        },
        "id": "zqHZ2RJ-ckEL",
        "outputId": "dd2f1892-bb1e-40c0-9d86-71dfe08a85e2"
      },
      "execution_count": 39,
      "outputs": [
        {
          "output_type": "execute_result",
          "data": {
            "text/plain": [
              "[7,\n",
              " 2,\n",
              " 1,\n",
              " 0,\n",
              " 4,\n",
              " 1,\n",
              " 4,\n",
              " 9,\n",
              " 6,\n",
              " 9,\n",
              " 0,\n",
              " 6,\n",
              " 9,\n",
              " 0,\n",
              " 1,\n",
              " 5,\n",
              " 9,\n",
              " 7,\n",
              " 3,\n",
              " 4,\n",
              " 9,\n",
              " 6,\n",
              " 6,\n",
              " 5,\n",
              " 4,\n",
              " 0,\n",
              " 7,\n",
              " 4,\n",
              " 0,\n",
              " 1,\n",
              " 3,\n",
              " 1,\n",
              " 3,\n",
              " 6,\n",
              " 7,\n",
              " 2,\n",
              " 7,\n",
              " 1,\n",
              " 2,\n",
              " 1,\n",
              " 1,\n",
              " 7,\n",
              " 4,\n",
              " 2,\n",
              " 3,\n",
              " 5,\n",
              " 1,\n",
              " 2,\n",
              " 4,\n",
              " 4,\n",
              " 6,\n",
              " 3,\n",
              " 5,\n",
              " 5,\n",
              " 6,\n",
              " 0,\n",
              " 4,\n",
              " 1,\n",
              " 9,\n",
              " 5,\n",
              " 7,\n",
              " 8,\n",
              " 9,\n",
              " 2,\n",
              " 7,\n",
              " 4,\n",
              " 6,\n",
              " 4,\n",
              " 3,\n",
              " 0,\n",
              " 7,\n",
              " 0,\n",
              " 2,\n",
              " 9,\n",
              " 1,\n",
              " 7,\n",
              " 3,\n",
              " 2,\n",
              " 9,\n",
              " 7,\n",
              " 7,\n",
              " 6,\n",
              " 2,\n",
              " 7,\n",
              " 8,\n",
              " 4,\n",
              " 7,\n",
              " 3,\n",
              " 6,\n",
              " 1,\n",
              " 3,\n",
              " 6,\n",
              " 9,\n",
              " 3,\n",
              " 1,\n",
              " 4,\n",
              " 1,\n",
              " 7,\n",
              " 6,\n",
              " 9,\n",
              " 6,\n",
              " 0,\n",
              " 5,\n",
              " 4,\n",
              " 9,\n",
              " 9,\n",
              " 2,\n",
              " 1,\n",
              " 9,\n",
              " 4,\n",
              " 8,\n",
              " 7,\n",
              " 3,\n",
              " 9,\n",
              " 7,\n",
              " 4,\n",
              " 4,\n",
              " 4,\n",
              " 9,\n",
              " 2,\n",
              " 5,\n",
              " 4,\n",
              " 7,\n",
              " 6,\n",
              " 4,\n",
              " 9,\n",
              " 0,\n",
              " 5,\n",
              " 8,\n",
              " 5,\n",
              " 6,\n",
              " 6,\n",
              " 5,\n",
              " 7,\n",
              " 8,\n",
              " 1,\n",
              " 0,\n",
              " 1,\n",
              " 6,\n",
              " 4,\n",
              " 6,\n",
              " 7,\n",
              " 3,\n",
              " 1,\n",
              " 7,\n",
              " 1,\n",
              " 8,\n",
              " 2,\n",
              " 0,\n",
              " 9,\n",
              " 9,\n",
              " 9,\n",
              " 5,\n",
              " 5,\n",
              " 1,\n",
              " 5,\n",
              " 6,\n",
              " 0,\n",
              " 3,\n",
              " 4,\n",
              " 4,\n",
              " 6,\n",
              " 5,\n",
              " 4,\n",
              " 6,\n",
              " 5,\n",
              " 4,\n",
              " 5,\n",
              " 1,\n",
              " 4,\n",
              " 4,\n",
              " 7,\n",
              " 2,\n",
              " 3,\n",
              " 2,\n",
              " 7,\n",
              " 1,\n",
              " 8,\n",
              " 1,\n",
              " 8,\n",
              " 1,\n",
              " 8,\n",
              " 5,\n",
              " 0,\n",
              " 8,\n",
              " 9,\n",
              " 2,\n",
              " 5,\n",
              " 0,\n",
              " 1,\n",
              " 1,\n",
              " 1,\n",
              " 0,\n",
              " 3,\n",
              " 0,\n",
              " 8,\n",
              " 1,\n",
              " 6,\n",
              " 4,\n",
              " 2,\n",
              " 3,\n",
              " 6,\n",
              " 1,\n",
              " 1,\n",
              " 1,\n",
              " 3,\n",
              " 9,\n",
              " 5,\n",
              " 2,\n",
              " 9,\n",
              " 4,\n",
              " 7,\n",
              " 9,\n",
              " 3,\n",
              " 9,\n",
              " 0,\n",
              " 3,\n",
              " 6,\n",
              " 5,\n",
              " 5,\n",
              " 7,\n",
              " 2,\n",
              " 2,\n",
              " 7,\n",
              " 1,\n",
              " 2,\n",
              " 8,\n",
              " 4,\n",
              " 1,\n",
              " 7,\n",
              " 3,\n",
              " 3,\n",
              " 8,\n",
              " 7,\n",
              " 7,\n",
              " 9,\n",
              " 2,\n",
              " 2,\n",
              " 4,\n",
              " 1,\n",
              " 5,\n",
              " 8,\n",
              " 8,\n",
              " 7,\n",
              " 2,\n",
              " 5,\n",
              " 0,\n",
              " 6,\n",
              " 4,\n",
              " 2,\n",
              " 4,\n",
              " 1,\n",
              " 9,\n",
              " 5,\n",
              " 7,\n",
              " 7,\n",
              " 2,\n",
              " 8,\n",
              " 2,\n",
              " 0,\n",
              " 8,\n",
              " 5,\n",
              " 7,\n",
              " 7,\n",
              " 9,\n",
              " 1,\n",
              " 8,\n",
              " 1,\n",
              " 8,\n",
              " 0,\n",
              " 3,\n",
              " 0,\n",
              " 1,\n",
              " 9,\n",
              " 9,\n",
              " 4,\n",
              " 1,\n",
              " 8,\n",
              " 2,\n",
              " 1,\n",
              " 2,\n",
              " 9,\n",
              " 7,\n",
              " 5,\n",
              " 9,\n",
              " 2,\n",
              " 6,\n",
              " 4,\n",
              " 1,\n",
              " 5,\n",
              " 4,\n",
              " 2,\n",
              " 9,\n",
              " 2,\n",
              " 0,\n",
              " 4,\n",
              " 0,\n",
              " 0,\n",
              " 2,\n",
              " 8,\n",
              " 6,\n",
              " 7,\n",
              " 1,\n",
              " 2,\n",
              " 4,\n",
              " 0,\n",
              " 2,\n",
              " 9,\n",
              " 4,\n",
              " 3,\n",
              " 3,\n",
              " 0,\n",
              " 0,\n",
              " 3,\n",
              " 1,\n",
              " 9,\n",
              " 6,\n",
              " 5,\n",
              " 3,\n",
              " 5,\n",
              " 7,\n",
              " 7,\n",
              " 9,\n",
              " 3,\n",
              " 0,\n",
              " 4,\n",
              " 2,\n",
              " 0,\n",
              " 7,\n",
              " 1,\n",
              " 1,\n",
              " 2,\n",
              " 1,\n",
              " 5,\n",
              " 3,\n",
              " 3,\n",
              " 9,\n",
              " 7,\n",
              " 8,\n",
              " 6,\n",
              " 3,\n",
              " 6,\n",
              " 1,\n",
              " 3,\n",
              " 8,\n",
              " 1,\n",
              " 0,\n",
              " 5,\n",
              " 1,\n",
              " 3,\n",
              " 1,\n",
              " 5,\n",
              " 0,\n",
              " 6,\n",
              " 1,\n",
              " 8,\n",
              " 5,\n",
              " 1,\n",
              " 7,\n",
              " 4,\n",
              " 4,\n",
              " 6,\n",
              " 7,\n",
              " 2,\n",
              " 5,\n",
              " 0,\n",
              " 6,\n",
              " 5,\n",
              " 6,\n",
              " 3,\n",
              " 7,\n",
              " 2,\n",
              " 0,\n",
              " 8,\n",
              " 8,\n",
              " 5,\n",
              " 4,\n",
              " 1,\n",
              " 1,\n",
              " 4,\n",
              " 0,\n",
              " 7,\n",
              " 3,\n",
              " 7,\n",
              " 6,\n",
              " 1,\n",
              " 6,\n",
              " 2,\n",
              " 1,\n",
              " 9,\n",
              " 2,\n",
              " 5,\n",
              " 6,\n",
              " 1,\n",
              " 9,\n",
              " 5,\n",
              " 2,\n",
              " 5,\n",
              " 4,\n",
              " 4,\n",
              " 2,\n",
              " 8,\n",
              " 3,\n",
              " 8,\n",
              " 2,\n",
              " 4,\n",
              " 5,\n",
              " 0,\n",
              " 3,\n",
              " 1,\n",
              " 7,\n",
              " 7,\n",
              " 5,\n",
              " 7,\n",
              " 9,\n",
              " 7,\n",
              " 1,\n",
              " 9,\n",
              " 2,\n",
              " 1,\n",
              " 4,\n",
              " 2,\n",
              " 9,\n",
              " 2,\n",
              " 0,\n",
              " 4,\n",
              " 9,\n",
              " 1,\n",
              " 4,\n",
              " 8,\n",
              " 1,\n",
              " 8,\n",
              " 4,\n",
              " 5,\n",
              " 9,\n",
              " 7,\n",
              " 8,\n",
              " 3,\n",
              " 7,\n",
              " 6,\n",
              " 0,\n",
              " 0,\n",
              " 3,\n",
              " 0,\n",
              " 8,\n",
              " 0,\n",
              " 6,\n",
              " 4,\n",
              " 8,\n",
              " 3,\n",
              " 3,\n",
              " 3,\n",
              " 2,\n",
              " 3,\n",
              " 9,\n",
              " 1,\n",
              " 2,\n",
              " 6,\n",
              " 8,\n",
              " 0,\n",
              " 5,\n",
              " 6,\n",
              " 6,\n",
              " 6,\n",
              " 3,\n",
              " 8,\n",
              " 8,\n",
              " 2,\n",
              " 9,\n",
              " 5,\n",
              " 8,\n",
              " 9,\n",
              " 6,\n",
              " 1,\n",
              " 8,\n",
              " 4,\n",
              " 1,\n",
              " 2,\n",
              " 8,\n",
              " 3,\n",
              " 1,\n",
              " 9,\n",
              " 7,\n",
              " 5,\n",
              " 4,\n",
              " 0,\n",
              " 8,\n",
              " 9,\n",
              " 9,\n",
              " 1,\n",
              " 0,\n",
              " 5,\n",
              " 2,\n",
              " 3,\n",
              " 7,\n",
              " 8,\n",
              " 9,\n",
              " 4,\n",
              " 0,\n",
              " 6,\n",
              " 3,\n",
              " 9,\n",
              " 3,\n",
              " 2,\n",
              " 1,\n",
              " 3,\n",
              " 1,\n",
              " 5,\n",
              " 6,\n",
              " 5,\n",
              " 7,\n",
              " 8,\n",
              " 2,\n",
              " 2,\n",
              " 6,\n",
              " 3,\n",
              " 2,\n",
              " 6,\n",
              " 5,\n",
              " 4,\n",
              " 8,\n",
              " 9,\n",
              " 7,\n",
              " 1,\n",
              " 3,\n",
              " 0,\n",
              " 3,\n",
              " 8,\n",
              " 3,\n",
              " 1,\n",
              " 9,\n",
              " 6,\n",
              " 4,\n",
              " 4,\n",
              " 6,\n",
              " 4,\n",
              " 1,\n",
              " 1,\n",
              " 8,\n",
              " 2,\n",
              " 5,\n",
              " 4,\n",
              " 2,\n",
              " 3,\n",
              " 4,\n",
              " 0,\n",
              " 0,\n",
              " 2,\n",
              " 3,\n",
              " 2,\n",
              " 7,\n",
              " 1,\n",
              " 0,\n",
              " 8,\n",
              " 7,\n",
              " 4,\n",
              " 4,\n",
              " 7,\n",
              " 9,\n",
              " 6,\n",
              " 9,\n",
              " 0,\n",
              " 9,\n",
              " 8,\n",
              " 0,\n",
              " 9,\n",
              " 6,\n",
              " 0,\n",
              " 6,\n",
              " 5,\n",
              " 5,\n",
              " 4,\n",
              " 8,\n",
              " 3,\n",
              " 3,\n",
              " 9,\n",
              " 3,\n",
              " 3,\n",
              " 2,\n",
              " 7,\n",
              " 8,\n",
              " 0,\n",
              " 2,\n",
              " 8,\n",
              " 1,\n",
              " 7,\n",
              " 0,\n",
              " 6,\n",
              " 5,\n",
              " 4,\n",
              " 3,\n",
              " 3,\n",
              " 0,\n",
              " 9,\n",
              " 6,\n",
              " 3,\n",
              " 8,\n",
              " 0,\n",
              " 9,\n",
              " 9,\n",
              " 6,\n",
              " 8,\n",
              " 6,\n",
              " 8,\n",
              " 5,\n",
              " 7,\n",
              " 8,\n",
              " 6,\n",
              " 0,\n",
              " 2,\n",
              " 4,\n",
              " 0,\n",
              " 2,\n",
              " 8,\n",
              " 3,\n",
              " 1,\n",
              " 9,\n",
              " 7,\n",
              " 5,\n",
              " 8,\n",
              " 0,\n",
              " 8,\n",
              " 4,\n",
              " 6,\n",
              " 2,\n",
              " 6,\n",
              " 7,\n",
              " 4,\n",
              " 9,\n",
              " 6,\n",
              " 9,\n",
              " 8,\n",
              " 2,\n",
              " 2,\n",
              " 9,\n",
              " 2,\n",
              " 7,\n",
              " 3,\n",
              " 5,\n",
              " 9,\n",
              " 1,\n",
              " 8,\n",
              " 0,\n",
              " 2,\n",
              " 0,\n",
              " 5,\n",
              " 2,\n",
              " 1,\n",
              " 3,\n",
              " 7,\n",
              " 6,\n",
              " 7,\n",
              " 1,\n",
              " 2,\n",
              " 5,\n",
              " 8,\n",
              " 0,\n",
              " 3,\n",
              " 7,\n",
              " 9,\n",
              " 4,\n",
              " 0,\n",
              " 9,\n",
              " 1,\n",
              " 8,\n",
              " 6,\n",
              " 7,\n",
              " 7,\n",
              " 4,\n",
              " 3,\n",
              " 4,\n",
              " 9,\n",
              " 1,\n",
              " 9,\n",
              " 5,\n",
              " 1,\n",
              " 7,\n",
              " 3,\n",
              " 9,\n",
              " 7,\n",
              " 6,\n",
              " 9,\n",
              " 1,\n",
              " 3,\n",
              " 3,\n",
              " 8,\n",
              " 3,\n",
              " 3,\n",
              " 6,\n",
              " 7,\n",
              " 2,\n",
              " 4,\n",
              " 5,\n",
              " 8,\n",
              " 5,\n",
              " 1,\n",
              " 1,\n",
              " 4,\n",
              " 4,\n",
              " 3,\n",
              " 1,\n",
              " 0,\n",
              " 7,\n",
              " 7,\n",
              " 0,\n",
              " 7,\n",
              " 9,\n",
              " 9,\n",
              " 4,\n",
              " 8,\n",
              " 5,\n",
              " 5,\n",
              " 4,\n",
              " 0,\n",
              " 8,\n",
              " 2,\n",
              " 1,\n",
              " 6,\n",
              " 8,\n",
              " 4,\n",
              " 8,\n",
              " 0,\n",
              " 4,\n",
              " 0,\n",
              " 6,\n",
              " 1,\n",
              " 7,\n",
              " 3,\n",
              " 8,\n",
              " 6,\n",
              " 7,\n",
              " 2,\n",
              " 6,\n",
              " 9,\n",
              " 3,\n",
              " 1,\n",
              " 4,\n",
              " 6,\n",
              " 8,\n",
              " 5,\n",
              " 9,\n",
              " 8,\n",
              " 0,\n",
              " 6,\n",
              " 2,\n",
              " 1,\n",
              " 7,\n",
              " 3,\n",
              " 4,\n",
              " 1,\n",
              " 0,\n",
              " 5,\n",
              " 4,\n",
              " 3,\n",
              " 1,\n",
              " 1,\n",
              " 7,\n",
              " 4,\n",
              " 9,\n",
              " 9,\n",
              " 9,\n",
              " 8,\n",
              " 4,\n",
              " 0,\n",
              " 2,\n",
              " 4,\n",
              " 5,\n",
              " 1,\n",
              " 1,\n",
              " 6,\n",
              " 4,\n",
              " 7,\n",
              " 1,\n",
              " 9,\n",
              " 4,\n",
              " 2,\n",
              " 4,\n",
              " 1,\n",
              " 5,\n",
              " 5,\n",
              " 3,\n",
              " 8,\n",
              " 3,\n",
              " 1,\n",
              " 4,\n",
              " 5,\n",
              " 6,\n",
              " 8,\n",
              " 9,\n",
              " 4,\n",
              " 1,\n",
              " 9,\n",
              " 3,\n",
              " 8,\n",
              " 0,\n",
              " 3,\n",
              " 2,\n",
              " 5,\n",
              " 1,\n",
              " 2,\n",
              " 8,\n",
              " 3,\n",
              " 4,\n",
              " 4,\n",
              " 0,\n",
              " 8,\n",
              " 8,\n",
              " 3,\n",
              " 3,\n",
              " 1,\n",
              " 7,\n",
              " 3,\n",
              " 5,\n",
              " 9,\n",
              " 6,\n",
              " 3,\n",
              " 2,\n",
              " 6,\n",
              " 1,\n",
              " 3,\n",
              " 6,\n",
              " 0,\n",
              " 7,\n",
              " 2,\n",
              " 1,\n",
              " 7,\n",
              " 1,\n",
              " 4,\n",
              " 2,\n",
              " 8,\n",
              " 2,\n",
              " 1,\n",
              " 7,\n",
              " 9,\n",
              " 6,\n",
              " 1,\n",
              " 1,\n",
              " 2,\n",
              " 4,\n",
              " 3,\n",
              " 1,\n",
              " 7,\n",
              " 7,\n",
              " 4,\n",
              " 7,\n",
              " 0,\n",
              " 7,\n",
              " 3,\n",
              " 1,\n",
              " 3,\n",
              " 1,\n",
              " 0,\n",
              " 7,\n",
              " 7,\n",
              " 0,\n",
              " 3,\n",
              " 5,\n",
              " 5,\n",
              " 2,\n",
              " 7,\n",
              " 6,\n",
              " 6,\n",
              " 9,\n",
              " 2,\n",
              " 8,\n",
              " 3,\n",
              " 5,\n",
              " 2,\n",
              " 2,\n",
              " 5,\n",
              " 6,\n",
              " 0,\n",
              " 8,\n",
              " 2,\n",
              " 9,\n",
              " 2,\n",
              " 8,\n",
              " 2,\n",
              " 8,\n",
              " 8,\n",
              " 7,\n",
              " 9,\n",
              " 9,\n",
              " 3,\n",
              " 0,\n",
              " 6,\n",
              " 6,\n",
              " 3,\n",
              " 2,\n",
              " 1,\n",
              " 5,\n",
              " 2,\n",
              " 2,\n",
              " 9,\n",
              " 3,\n",
              " 0,\n",
              " 0,\n",
              " 5,\n",
              " 2,\n",
              " 8,\n",
              " 1,\n",
              " 4,\n",
              " 4,\n",
              " 6,\n",
              " 0,\n",
              " 2,\n",
              " 9,\n",
              " 1,\n",
              " 4,\n",
              " 7,\n",
              " 4,\n",
              " 7,\n",
              " 3,\n",
              " 9,\n",
              " 8,\n",
              " 8,\n",
              " 4,\n",
              " 7,\n",
              " 1,\n",
              " 2,\n",
              " 1,\n",
              " 2,\n",
              " 2,\n",
              " 3,\n",
              " 7,\n",
              " 3,\n",
              " 2,\n",
              " 3,\n",
              " 9,\n",
              " 1,\n",
              " 7,\n",
              " 4,\n",
              " 0,\n",
              " 3,\n",
              " 5,\n",
              " 5,\n",
              " 8,\n",
              " 6,\n",
              " 5,\n",
              " 5,\n",
              " 6,\n",
              " 7,\n",
              " 6,\n",
              " 6,\n",
              " 3,\n",
              " 2,\n",
              " 7,\n",
              " 9,\n",
              " 1,\n",
              " 1,\n",
              " 2,\n",
              " 4,\n",
              " 6,\n",
              " 4,\n",
              " 9,\n",
              " 5,\n",
              " 6,\n",
              " 3,\n",
              " 3,\n",
              " 4,\n",
              " 7,\n",
              " 8,\n",
              " 9,\n",
              " 1,\n",
              " 1,\n",
              " 0,\n",
              " 9,\n",
              " 1,\n",
              " 4,\n",
              " 4,\n",
              " 5,\n",
              " 4,\n",
              " 0,\n",
              " 6,\n",
              " 2,\n",
              " 3,\n",
              " 3,\n",
              " 1,\n",
              " 5,\n",
              " 1,\n",
              " 2,\n",
              " 0,\n",
              " 8,\n",
              " 8,\n",
              " 1,\n",
              " 2,\n",
              " 6,\n",
              " 7,\n",
              " 1,\n",
              " 6,\n",
              " 2,\n",
              " 3,\n",
              " 9,\n",
              " 0,\n",
              " 1,\n",
              " 2,\n",
              " 2,\n",
              " 0,\n",
              " 8,\n",
              " 7,\n",
              " ...]"
            ]
          },
          "metadata": {},
          "execution_count": 39
        }
      ]
    },
    {
      "cell_type": "code",
      "source": [],
      "metadata": {
        "id": "ytzEmR6qckHn"
      },
      "execution_count": null,
      "outputs": []
    },
    {
      "cell_type": "code",
      "source": [],
      "metadata": {
        "id": "M8wd7fqzeoLK"
      },
      "execution_count": 18,
      "outputs": []
    }
  ]
}